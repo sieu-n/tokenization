{
 "cells": [
  {
   "cell_type": "code",
   "execution_count": 1,
   "metadata": {},
   "outputs": [],
   "source": [
    "import re, collections\n",
    "\n",
    "test_text = \"this is a test. we are testing BPE tokenization. BPE is really cool.\"\n"
   ]
  },
  {
   "cell_type": "code",
   "execution_count": 2,
   "metadata": {},
   "outputs": [
    {
     "data": {
      "text/plain": [
       "defaultdict(int,\n",
       "            {'t h i s': 1,\n",
       "             'i s': 2,\n",
       "             'a': 1,\n",
       "             't e s t .': 1,\n",
       "             'w e': 1,\n",
       "             'a r e': 1,\n",
       "             't e s t i n g': 1,\n",
       "             'B P E': 2,\n",
       "             't o k e n i z a t i o n .': 1,\n",
       "             'r e a l l y': 1,\n",
       "             'c o o l .': 1})"
      ]
     },
     "execution_count": 2,
     "metadata": {},
     "output_type": "execute_result"
    }
   ],
   "source": [
    "def get_vocab(text):\n",
    "    words = text.split()\n",
    "    vocab = collections.defaultdict(int)\n",
    "    for word in words:\n",
    "        vocab[' '.join(word)] += 1\n",
    "    return vocab\n",
    "\n",
    "test_vocab = get_vocab(test_text)\n",
    "test_vocab"
   ]
  },
  {
   "cell_type": "code",
   "execution_count": 3,
   "metadata": {},
   "outputs": [
    {
     "data": {
      "text/plain": [
       "defaultdict(int,\n",
       "            {('t', 'h'): 1,\n",
       "             ('h', 'i'): 1,\n",
       "             ('i', 's'): 3,\n",
       "             ('t', 'e'): 2,\n",
       "             ('e', 's'): 2,\n",
       "             ('s', 't'): 2,\n",
       "             ('t', '.'): 1,\n",
       "             ('w', 'e'): 1,\n",
       "             ('a', 'r'): 1,\n",
       "             ('r', 'e'): 2,\n",
       "             ('t', 'i'): 2,\n",
       "             ('i', 'n'): 1,\n",
       "             ('n', 'g'): 1,\n",
       "             ('B', 'P'): 2,\n",
       "             ('P', 'E'): 2,\n",
       "             ('t', 'o'): 1,\n",
       "             ('o', 'k'): 1,\n",
       "             ('k', 'e'): 1,\n",
       "             ('e', 'n'): 1,\n",
       "             ('n', 'i'): 1,\n",
       "             ('i', 'z'): 1,\n",
       "             ('z', 'a'): 1,\n",
       "             ('a', 't'): 1,\n",
       "             ('i', 'o'): 1,\n",
       "             ('o', 'n'): 1,\n",
       "             ('n', '.'): 1,\n",
       "             ('e', 'a'): 1,\n",
       "             ('a', 'l'): 1,\n",
       "             ('l', 'l'): 1,\n",
       "             ('l', 'y'): 1,\n",
       "             ('c', 'o'): 1,\n",
       "             ('o', 'o'): 1,\n",
       "             ('o', 'l'): 1,\n",
       "             ('l', '.'): 1})"
      ]
     },
     "execution_count": 3,
     "metadata": {},
     "output_type": "execute_result"
    }
   ],
   "source": [
    "def get_stats(vocab):\n",
    "    pairs = collections.defaultdict(int)\n",
    "    for word, freq in vocab.items():\n",
    "        symbols = word.split()\n",
    "        for i in range(len(symbols)-1):\n",
    "            pairs[symbols[i],symbols[i+1]] += freq\n",
    "    return pairs\n",
    "\n",
    "pairs = get_stats(test_vocab)\n",
    "pairs"
   ]
  },
  {
   "cell_type": "code",
   "execution_count": 6,
   "metadata": {},
   "outputs": [
    {
     "data": {
      "text/plain": [
       "(('i', 's'), 3)"
      ]
     },
     "execution_count": 6,
     "metadata": {},
     "output_type": "execute_result"
    }
   ],
   "source": [
    "best = max(pairs, key=pairs.get)\n",
    "best, pairs[best]"
   ]
  },
  {
   "cell_type": "code",
   "execution_count": null,
   "metadata": {},
   "outputs": [
    {
     "data": {
      "text/plain": [
       "{'t h is': 1,\n",
       " 'is': 2,\n",
       " 'a': 1,\n",
       " 't e s t .': 1,\n",
       " 'w e': 1,\n",
       " 'a r e': 1,\n",
       " 't e s t i n g': 1,\n",
       " 'B P E': 2,\n",
       " 't o k e n i z a t i o n .': 1,\n",
       " 'r e a l l y': 1,\n",
       " 'c o o l .': 1}"
      ]
     },
     "execution_count": 7,
     "metadata": {},
     "output_type": "execute_result"
    }
   ],
   "source": [
    "def merge_vocab(pair, v_in):\n",
    "    v_out = {}\n",
    "    bigram = re.escape(' '.join(pair))\n",
    "    p = re.compile(r'(?<!\\S)' + bigram + r'(?!\\S)')\n",
    "    for word in v_in:\n",
    "        w_out = p.sub(''.join(pair), word)\n",
    "        v_out[w_out] = v_in[word]\n",
    "    return v_out\n",
    "\n",
    "_test_vocab = merge_vocab(best, test_vocab)\n",
    "_test_vocab"
   ]
  },
  {
   "cell_type": "code",
   "execution_count": 8,
   "metadata": {},
   "outputs": [
    {
     "data": {
      "text/plain": [
       "{'this': 1,\n",
       " 'is': 2,\n",
       " 'a': 1,\n",
       " 'test.': 1,\n",
       " 'we': 1,\n",
       " 'a re': 1,\n",
       " 'test i n g': 1,\n",
       " 'BPE': 2,\n",
       " 't o k e n i z a t i o n .': 1,\n",
       " 're a l l y': 1,\n",
       " 'c o o l .': 1}"
      ]
     },
     "execution_count": 8,
     "metadata": {},
     "output_type": "execute_result"
    }
   ],
   "source": [
    "num_merges = 10\n",
    "for i in range(num_merges):\n",
    "    pairs = get_stats(test_vocab)\n",
    "    if not pairs:\n",
    "        break\n",
    "    best = max(pairs, key=pairs.get)\n",
    "    test_vocab = merge_vocab(best, test_vocab)\n",
    "\n",
    "test_vocab"
   ]
  },
  {
   "cell_type": "code",
   "execution_count": 9,
   "metadata": {},
   "outputs": [],
   "source": [
    "def merge_vocab(pair, v_in):\n",
    "    v_out = {}\n",
    "    bigram = re.escape(' '.join(pair))\n",
    "    p = re.compile(r'(?<!\\S)' + bigram + r'(?!\\S)')\n",
    "    for word in v_in:\n",
    "        w_out = p.sub(''.join(pair), word)\n",
    "        v_out[w_out] = v_in[word]\n",
    "    return v_out\n",
    "\n",
    "\n",
    "def bpe_tokenization(text, num_merges):\n",
    "    vocab = get_vocab(text)\n",
    "    for i in range(num_merges):\n",
    "        pairs = get_stats(vocab)\n",
    "        if not pairs:\n",
    "            break\n",
    "        best = max(pairs, key=pairs.get)\n",
    "        vocab = merge_vocab(best, vocab)\n",
    "        \n",
    "    return vocab\n"
   ]
  },
  {
   "cell_type": "code",
   "execution_count": 10,
   "metadata": {},
   "outputs": [
    {
     "data": {
      "text/plain": [
       "{'this': 1,\n",
       " 'is': 2,\n",
       " 'a': 1,\n",
       " 'test.': 1,\n",
       " 'w e': 1,\n",
       " 'a re': 1,\n",
       " 'test i n g': 1,\n",
       " 'BPE': 2,\n",
       " 't o k e n i z a t i o n .': 1,\n",
       " 're a l l y': 1,\n",
       " 'c o o l .': 1}"
      ]
     },
     "execution_count": 10,
     "metadata": {},
     "output_type": "execute_result"
    }
   ],
   "source": [
    "bpe_tokenization(test_text, 10)"
   ]
  },
  {
   "cell_type": "code",
   "execution_count": null,
   "metadata": {},
   "outputs": [],
   "source": []
  }
 ],
 "metadata": {
  "kernelspec": {
   "display_name": "base",
   "language": "python",
   "name": "python3"
  },
  "language_info": {
   "codemirror_mode": {
    "name": "ipython",
    "version": 3
   },
   "file_extension": ".py",
   "mimetype": "text/x-python",
   "name": "python",
   "nbconvert_exporter": "python",
   "pygments_lexer": "ipython3",
   "version": "3.11.4"
  },
  "orig_nbformat": 4
 },
 "nbformat": 4,
 "nbformat_minor": 2
}
